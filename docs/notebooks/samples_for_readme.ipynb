{
 "cells": [
  {
   "cell_type": "markdown",
   "id": "continued-consultancy",
   "metadata": {},
   "source": [
    "## Example Usage"
   ]
  },
  {
   "cell_type": "code",
   "execution_count": 11,
   "id": "appreciated-stupid",
   "metadata": {},
   "outputs": [],
   "source": [
    "import ezpaths # Importing to use module installation as example path\n",
    "from ezpaths import Path # Typical import"
   ]
  },
  {
   "cell_type": "markdown",
   "id": "interstate-dollar",
   "metadata": {},
   "source": [
    "### Create a path object by initializing with a path string"
   ]
  },
  {
   "cell_type": "code",
   "execution_count": 12,
   "id": "meaning-disabled",
   "metadata": {},
   "outputs": [
    {
     "name": "stdout",
     "output_type": "stream",
     "text": [
      "path_insatall:  C:\\Users\\Brad\\Anaconda3\\envs\\stonks\\lib\\site-packages\\ezpaths\\__init__.py\n"
     ]
    }
   ],
   "source": [
    "# Create path objecet from this file path\n",
    "path_insatall = Path(ezpaths.__file__)\n",
    "print('path_insatall: ', path_insatall)"
   ]
  },
  {
   "cell_type": "markdown",
   "id": "incorrect-tribute",
   "metadata": {},
   "source": [
    "### Use the dir method to return the path (type: path) to the parent directory "
   ]
  },
  {
   "cell_type": "code",
   "execution_count": 13,
   "id": "bizarre-accent",
   "metadata": {},
   "outputs": [
    {
     "name": "stdout",
     "output_type": "stream",
     "text": [
      "install_dir:  C:\\Users\\Brad\\Anaconda3\\envs\\stonks\\lib\\site-packages\\ezpaths\n"
     ]
    }
   ],
   "source": [
    "# Get parent directory path\n",
    "install_dir = path_insatall.dir()\n",
    "print('install_dir: ', install_dir)"
   ]
  },
  {
   "cell_type": "markdown",
   "id": "liquid-hands",
   "metadata": {},
   "source": [
    "### The dir method can be used to ascend multiple levels\n",
    "* Use an integer in the dir method arguments to call recursively\n",
    "* Since a path object is returned, calls to dir can also be chained"
   ]
  },
  {
   "cell_type": "code",
   "execution_count": 14,
   "id": "pointed-volume",
   "metadata": {},
   "outputs": [
    {
     "name": "stdout",
     "output_type": "stream",
     "text": [
      "libraries_folder_1:  C:\\Users\\Brad\\Anaconda3\\envs\\stonks\\lib\n",
      "libraries_folder_2:  C:\\Users\\Brad\\Anaconda3\\envs\\stonks\\lib\n"
     ]
    }
   ],
   "source": [
    "# Go up multiple directories\n",
    "libraries_folder_1 = path_insatall.dir(2)\n",
    "libraries_folder_2 = path_insatall.dir().dir().dir()\n",
    "print('libraries_folder_1: ', libraries_folder_1)\n",
    "print('libraries_folder_2: ', libraries_folder_2)"
   ]
  },
  {
   "cell_type": "markdown",
   "id": "gothic-audio",
   "metadata": {},
   "source": [
    "### To get just the name of the current directory (type: string), use the dirname method"
   ]
  },
  {
   "cell_type": "code",
   "execution_count": 15,
   "id": "accompanied-pattern",
   "metadata": {},
   "outputs": [
    {
     "name": "stdout",
     "output_type": "stream",
     "text": [
      "dirname:  ezpaths\n"
     ]
    }
   ],
   "source": [
    "# Get parent directory name\n",
    "dirname = path_insatall.dirname()\n",
    "print('dirname: ', dirname)"
   ]
  },
  {
   "cell_type": "markdown",
   "id": "powerful-bosnia",
   "metadata": {},
   "source": [
    "### Get full filename or just name or extension"
   ]
  },
  {
   "cell_type": "code",
   "execution_count": 16,
   "id": "interior-blackjack",
   "metadata": {},
   "outputs": [
    {
     "name": "stdout",
     "output_type": "stream",
     "text": [
      "filename:  __init__.py\n",
      "name:  __init__\n",
      "ext:  .py\n"
     ]
    }
   ],
   "source": [
    "# filenames\n",
    "filename = path_insatall.filename()\n",
    "print('filename: ', filename)\n",
    "name = path_insatall.name()\n",
    "print('name: ', name)\n",
    "ext = path_insatall.ext()\n",
    "print('ext: ', ext)"
   ]
  },
  {
   "cell_type": "markdown",
   "id": "aquatic-flower",
   "metadata": {},
   "source": [
    "### The == operator will check if the absolute address of a path or path-string are the same"
   ]
  },
  {
   "cell_type": "code",
   "execution_count": 17,
   "id": "artistic-dealing",
   "metadata": {},
   "outputs": [
    {
     "name": "stdout",
     "output_type": "stream",
     "text": [
      "same (matching):  True\n",
      "same (non-matching):  False\n"
     ]
    }
   ],
   "source": [
    "# Check if same path\n",
    "same = libraries_folder_1 == libraries_folder_2\n",
    "print('same (matching): ', same)\n",
    "same = libraries_folder_1 == path_insatall\n",
    "print('same (non-matching): ', same)"
   ]
  },
  {
   "cell_type": "markdown",
   "id": "random-synthetic",
   "metadata": {},
   "source": [
    "### The + and / operators will join paths"
   ]
  },
  {
   "cell_type": "code",
   "execution_count": 19,
   "id": "modern-africa",
   "metadata": {},
   "outputs": [
    {
     "name": "stdout",
     "output_type": "stream",
     "text": [
      "path_ezpaths:  C:\\Users\\Brad\\Anaconda3\\envs\\stonks\\lib\\site-packages\\ezpaths\\__init__.py\n",
      "path_ezpaths:  C:\\Users\\Brad\\Anaconda3\\envs\\stonks\\lib\\site-packages\\ezpaths\\__init__.py\n"
     ]
    }
   ],
   "source": [
    "path_ezpaths = install_dir / filename\n",
    "print('path_ezpaths: ', path_ezpaths)\n",
    "path_ezpaths = path_ezpaths.dir() + path_ezpaths.filename()\n",
    "print('path_ezpaths: ', path_ezpaths)"
   ]
  },
  {
   "cell_type": "markdown",
   "id": "first-mauritius",
   "metadata": {},
   "source": [
    "### A path object is true if the target exists"
   ]
  },
  {
   "cell_type": "code",
   "execution_count": 9,
   "id": "dress-chest",
   "metadata": {},
   "outputs": [
    {
     "name": "stdout",
     "output_type": "stream",
     "text": [
      "exists_file:  True\n",
      "exists_dir:  True\n",
      "exists_random:  False\n"
     ]
    }
   ],
   "source": [
    "# Check if path exists\n",
    "exists_file = bool(path_insatall)\n",
    "print('exists_file: ', exists_file)\n",
    "exists_dir = bool(install_dir)\n",
    "print('exists_dir: ', exists_dir)\n",
    "exists_random = bool(install_dir / \"random.txt\")\n",
    "print('exists_random: ', exists_random)"
   ]
  }
 ],
 "metadata": {
  "kernelspec": {
   "display_name": "Python 3",
   "language": "python",
   "name": "python3"
  },
  "language_info": {
   "codemirror_mode": {
    "name": "ipython",
    "version": 3
   },
   "file_extension": ".py",
   "mimetype": "text/x-python",
   "name": "python",
   "nbconvert_exporter": "python",
   "pygments_lexer": "ipython3",
   "version": "3.8.5"
  }
 },
 "nbformat": 4,
 "nbformat_minor": 5
}
